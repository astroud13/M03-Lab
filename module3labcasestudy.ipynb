{
 "cells": [
  {
   "cell_type": "code",
   "execution_count": 1,
   "id": "a3c2320f-c1d4-4239-a13b-73d4d1d06d4c",
   "metadata": {},
   "outputs": [
    {
     "name": "stdout",
     "output_type": "stream",
     "text": [
      "Enter the year:  2019\n",
      "Enter the make:  Hyundai\n",
      "Enter the model:  Elantra \n",
      "Enter the number of doors (2 or 4):  4\n",
      "Enter the type of roof (solid or sun roof):  solid \n"
     ]
    },
    {
     "name": "stdout",
     "output_type": "stream",
     "text": [
      "Vehicle type: car\n",
      "Year: 2019\n",
      "Make: Hyundai\n",
      "Model: Elantra \n",
      "Number of doors: 4\n",
      "Type of roof: solid \n"
     ]
    }
   ],
   "source": [
    "#Austin Stroud\n",
    "#SDEV220 Module 3 Lab: Lists, Functions, and Classes\n",
    "#File name: module3labcasestudy.ipynb\n",
    "#Description: #The app will then ask the user for the year, make, model, doors, and type of roof then \n",
    "#Description (continued): output the data in an easy-to-read and understandable format.\n",
    "\n",
    "class Vehicle:\n",
    "    def __init__(self, vehicle_type):\n",
    "        #Initialize Vehicle class with vehicle type attribute.\n",
    "        self.vehicle_type = vehicle_type\n",
    "\n",
    "class Automobile(Vehicle):\n",
    "    def __init__(self, vehicle_type, year, make, model, doors, roof):\n",
    "        #Call parent class (Vehicle) to initialize the vehicle type attribute.\n",
    "        super().__init__(vehicle_type)\n",
    "        #Initialize attributes specific to Automobile.\n",
    "        self.year = year\n",
    "        self.make = make\n",
    "        self.model = model\n",
    "        self.doors = doors\n",
    "        self.roof = roof\n",
    "\n",
    "    def display_info(self):\n",
    "        #Display information about Automobile.\n",
    "        print(\"Vehicle type:\", self.vehicle_type)\n",
    "        print(\"Year:\", self.year)\n",
    "        print(\"Make:\", self.make)\n",
    "        print(\"Model:\", self.model)\n",
    "        print(\"Number of doors:\", self.doors)\n",
    "        print(\"Type of roof:\", self.roof)\n",
    "\n",
    "#User input.\n",
    "vehicle_type = \"car\"\n",
    "year = input(\"Enter the year: \")\n",
    "make = input(\"Enter the make: \")\n",
    "model = input(\"Enter the model: \")\n",
    "doors = int(input(\"Enter the number of doors (2 or 4): \"))\n",
    "roof = input(\"Enter the type of roof (solid or sun roof): \")\n",
    "\n",
    "#Create instance of Automobile class.\n",
    "car = Automobile(vehicle_type, year, make, model, doors, roof)\n",
    "\n",
    "#Output data.\n",
    "car.display_info()\n",
    "\n"
   ]
  },
  {
   "cell_type": "code",
   "execution_count": null,
   "id": "63ab7ed5-9143-4e8b-8afe-7c771dc5ceb6",
   "metadata": {},
   "outputs": [],
   "source": []
  }
 ],
 "metadata": {
  "kernelspec": {
   "display_name": "Python 3 (ipykernel)",
   "language": "python",
   "name": "python3"
  },
  "language_info": {
   "codemirror_mode": {
    "name": "ipython",
    "version": 3
   },
   "file_extension": ".py",
   "mimetype": "text/x-python",
   "name": "python",
   "nbconvert_exporter": "python",
   "pygments_lexer": "ipython3",
   "version": "3.11.7"
  }
 },
 "nbformat": 4,
 "nbformat_minor": 5
}
